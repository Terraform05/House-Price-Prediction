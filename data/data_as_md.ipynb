{
 "cells": [
  {
   "cell_type": "code",
   "execution_count": 25,
   "metadata": {},
   "outputs": [],
   "source": [
    "import os\n",
    "import sys\n",
    "\n"
   ]
  },
  {
   "cell_type": "code",
   "execution_count": 26,
   "metadata": {},
   "outputs": [],
   "source": [
    "#load txt\n",
    "with open('data_description.txt', 'r') as file:\n",
    "    data_description = file.read()"
   ]
  },
  {
   "cell_type": "code",
   "execution_count": 27,
   "metadata": {},
   "outputs": [],
   "source": [
    "lines = data_description.split('\\n')"
   ]
  },
  {
   "cell_type": "code",
   "execution_count": 28,
   "metadata": {},
   "outputs": [
    {
     "name": "stdout",
     "output_type": "stream",
     "text": [
      "{'MSSubClass': {'definition': 'Identifies the type of dwelling involved in the sale.', 'values': ['20:1-STORY 1946 & NEWER ALL STYLES', '30:1-STORY 1945 & OLDER', '40:1-STORY W/FINISHED ATTIC ALL AGES', '45:1-1/2 STORY - UNFINISHED ALL AGES', '50:1-1/2 STORY FINISHED ALL AGES', '60:2-STORY 1946 & NEWER', '70:2-STORY 1945 & OLDER', '75:2-1/2 STORY ALL AGES', '80:SPLIT OR MULTI-LEVEL', '85:SPLIT FOYER', '90:DUPLEX - ALL STYLES AND AGES', '120:1-STORY PUD (Planned Unit Development) - 1946 & NEWER', '150:1-1/2 STORY PUD - ALL AGES', '160:2-STORY PUD - 1946 & NEWER', '180:PUD - MULTILEVEL - INCL SPLIT LEV/FOYER', '190:2 FAMILY CONVERSION - ALL STYLES AND AGES']}, 'MSZoning': {'definition': 'Identifies the general zoning classification of the sale.', 'values': ['A:Agriculture', 'C:Commercial', 'FV:Floating Village Residential', 'I:Industrial', 'RH:Residential High Density', 'RL:Residential Low Density', 'RP:Residential Low Density Park', 'RM:Residential Medium Density']}, 'LotFrontage': {'definition': 'Linear feet of street connected to property', 'values': []}, 'LotArea': {'definition': 'Lot size in square feet', 'values': []}, 'Street': {'definition': 'Type of road access to property', 'values': ['Grvl:Gravel', 'Pave:Paved']}, 'Alley': {'definition': 'Type of alley access to property', 'values': ['Grvl:Gravel', 'Pave:Paved', 'NA :No alley access']}, 'LotShape': {'definition': 'General shape of property', 'values': ['Reg:Regular', 'IR1:Slightly irregular', 'IR2:Moderately Irregular', 'IR3:Irregular']}, 'LandContour': {'definition': 'Flatness of the property', 'values': ['Lvl:Near Flat/Level', 'Bnk:Banked - Quick and significant rise from street grade to building', 'HLS:Hillside - Significant slope from side to side', 'Low:Depression']}, 'Utilities': {'definition': 'Type of utilities available', 'values': ['AllPub:All public Utilities (E,G,W,& S)', 'NoSewr:Electricity, Gas, and Water (Septic Tank)', 'NoSeWa:Electricity and Gas Only', 'ELO:Electricity only']}, 'LotConfig': {'definition': 'Lot configuration', 'values': ['Inside:Inside lot', 'Corner:Corner lot', 'CulDSac:Cul-de-sac', 'FR2:Frontage on 2 sides of property', 'FR3:Frontage on 3 sides of property']}, 'LandSlope': {'definition': 'Slope of property', 'values': ['Gtl:Gentle slope', 'Mod:Moderate Slope', 'Sev:Severe Slope']}, 'Neighborhood': {'definition': 'Physical locations within Ames city limits', 'values': ['Blmngtn:Bloomington Heights', 'Blueste:Bluestem', 'BrDale:Briardale', 'BrkSide:Brookside', 'ClearCr:Clear Creek', 'CollgCr:College Creek', 'Crawfor:Crawford', 'Edwards:Edwards', 'Gilbert:Gilbert', 'IDOTRR:Iowa DOT and Rail Road', 'MeadowV:Meadow Village', 'Mitchel:Mitchell', 'Names:North Ames', 'NoRidge:Northridge', 'NPkVill:Northpark Villa', 'NridgHt:Northridge Heights', 'NWAmes:Northwest Ames', 'OldTown:Old Town', 'SWISU:South & West of Iowa State University', 'Sawyer:Sawyer', 'SawyerW:Sawyer West', 'Somerst:Somerset', 'StoneBr:Stone Brook', 'Timber:Timberland', 'Veenker:Veenker']}, 'Condition1': {'definition': 'Proximity to various conditions', 'values': ['Artery:Adjacent to arterial street', 'Feedr:Adjacent to feeder street', 'Norm:Normal', \"RRNn:Within 200' of North-South Railroad\", 'RRAn:Adjacent to North-South Railroad', 'PosN:Near positive off-site feature--park, greenbelt, etc.', 'PosA:Adjacent to postive off-site feature', \"RRNe:Within 200' of East-West Railroad\", 'RRAe:Adjacent to East-West Railroad']}, 'Condition2': {'definition': 'Proximity to various conditions (if more than one is present)', 'values': ['Artery:Adjacent to arterial street', 'Feedr:Adjacent to feeder street', 'Norm:Normal', \"RRNn:Within 200' of North-South Railroad\", 'RRAn:Adjacent to North-South Railroad', 'PosN:Near positive off-site feature--park, greenbelt, etc.', 'PosA:Adjacent to postive off-site feature', \"RRNe:Within 200' of East-West Railroad\", 'RRAe:Adjacent to East-West Railroad']}, 'BldgType': {'definition': 'Type of dwelling', 'values': ['1Fam:Single-family Detached', '2FmCon:Two-family Conversion; originally built as one-family dwelling', 'Duplx:Duplex', 'TwnhsE:Townhouse End Unit', 'TwnhsI:Townhouse Inside Unit']}, 'HouseStyle': {'definition': 'Style of dwelling', 'values': ['1Story:One story']}, '1.5Fin\\tOne and one-half story': {'definition': '2nd level finished', 'values': []}, '1.5Unf\\tOne and one-half story': {'definition': '2nd level unfinished', 'values': ['2Story:Two story']}, '2.5Fin\\tTwo and one-half story': {'definition': '2nd level finished', 'values': []}, '2.5Unf\\tTwo and one-half story': {'definition': '2nd level unfinished', 'values': ['SFoyer:Split Foyer', 'SLvl:Split Level']}, 'OverallQual': {'definition': 'Rates the overall material and finish of the house', 'values': ['10:Very Excellent', '9:Excellent', '8:Very Good', '7:Good', '6:Above Average', '5:Average', '4:Below Average', '3:Fair', '2:Poor', '1:Very Poor']}, 'OverallCond': {'definition': 'Rates the overall condition of the house', 'values': ['10:Very Excellent', '9:Excellent', '8:Very Good', '7:Good', '6:Above Average', '5:Average', '4:Below Average', '3:Fair', '2:Poor', '1:Very Poor']}, 'YearBuilt': {'definition': 'Original construction date', 'values': []}, 'YearRemodAdd': {'definition': 'Remodel date (same as construction date if no remodeling or additions)', 'values': []}, 'RoofStyle': {'definition': 'Type of roof', 'values': ['Flat:Flat', 'Gable:Gable', 'Gambrel:Gabrel (Barn)', 'Hip:Hip', 'Mansard:Mansard', 'Shed:Shed']}, 'RoofMatl': {'definition': 'Roof material', 'values': ['ClyTile:Clay or Tile', 'CompShg:Standard (Composite) Shingle', 'Membran:Membrane', 'Metal:Metal', 'Roll:Roll', 'Tar&Grv:Gravel & Tar', 'WdShake:Wood Shakes', 'WdShngl:Wood Shingles']}, 'Exterior1st': {'definition': 'Exterior covering on house', 'values': ['AsbShng:Asbestos Shingles', 'AsphShn:Asphalt Shingles', 'BrkComm:Brick Common', 'BrkFace:Brick Face', 'CBlock:Cinder Block', 'CemntBd:Cement Board', 'HdBoard:Hard Board', 'ImStucc:Imitation Stucco', 'MetalSd:Metal Siding', 'Other:Other', 'Plywood:Plywood', 'PreCast:PreCast', 'Stone:Stone', 'Stucco:Stucco', 'VinylSd:Vinyl Siding', 'Wd Sdng:Wood Siding', 'WdShing:Wood Shingles']}, 'Exterior2nd': {'definition': 'Exterior covering on house (if more than one material)', 'values': ['AsbShng:Asbestos Shingles', 'AsphShn:Asphalt Shingles', 'BrkComm:Brick Common', 'BrkFace:Brick Face', 'CBlock:Cinder Block', 'CemntBd:Cement Board', 'HdBoard:Hard Board', 'ImStucc:Imitation Stucco', 'MetalSd:Metal Siding', 'Other:Other', 'Plywood:Plywood', 'PreCast:PreCast', 'Stone:Stone', 'Stucco:Stucco', 'VinylSd:Vinyl Siding', 'Wd Sdng:Wood Siding', 'WdShing:Wood Shingles']}, 'MasVnrType': {'definition': 'Masonry veneer type', 'values': ['BrkCmn:Brick Common', 'BrkFace:Brick Face', 'CBlock:Cinder Block', 'None:None', 'Stone:Stone']}, 'MasVnrArea': {'definition': 'Masonry veneer area in square feet', 'values': []}, 'ExterQual': {'definition': 'Evaluates the quality of the material on the exterior', 'values': ['Ex:Excellent', 'Gd:Good', 'TA:Average/Typical', 'Fa:Fair', 'Po:Poor']}, 'ExterCond': {'definition': 'Evaluates the present condition of the material on the exterior', 'values': ['Ex:Excellent', 'Gd:Good', 'TA:Average/Typical', 'Fa:Fair', 'Po:Poor']}, 'Foundation': {'definition': 'Type of foundation', 'values': ['BrkTil:Brick & Tile', 'CBlock:Cinder Block', 'PConc:Poured Contrete', 'Slab:Slab', 'Stone:Stone', 'Wood:Wood']}, 'BsmtQual': {'definition': 'Evaluates the height of the basement', 'values': ['Ex:Excellent (100+ inches)', 'Gd:Good (90-99 inches)', 'TA:Typical (80-89 inches)', 'Fa:Fair (70-79 inches)', 'Po:Poor (<70 inches', 'NA:No Basement']}, 'BsmtCond': {'definition': 'Evaluates the general condition of the basement', 'values': ['Ex:Excellent', 'Gd:Good', 'TA:Typical - slight dampness allowed', 'Fa:Fair - dampness or some cracking or settling', 'Po:Poor - Severe cracking, settling, or wetness', 'NA:No Basement']}, 'BsmtExposure': {'definition': 'Refers to walkout or garden level walls', 'values': ['Gd:Good Exposure', 'Av:Average Exposure (split levels or foyers typically score average or above)', 'Mn:Mimimum Exposure', 'No:No Exposure', 'NA:No Basement']}, 'BsmtFinType1': {'definition': 'Rating of basement finished area', 'values': ['GLQ:Good Living Quarters', 'ALQ:Average Living Quarters', 'BLQ:Below Average Living Quarters', 'Rec:Average Rec Room', 'LwQ:Low Quality', 'Unf:Unfinshed', 'NA:No Basement']}, 'BsmtFinSF1': {'definition': 'Type 1 finished square feet', 'values': []}, 'BsmtFinType2': {'definition': 'Rating of basement finished area (if multiple types)', 'values': ['GLQ:Good Living Quarters', 'ALQ:Average Living Quarters', 'BLQ:Below Average Living Quarters', 'Rec:Average Rec Room', 'LwQ:Low Quality', 'Unf:Unfinshed', 'NA:No Basement']}, 'BsmtFinSF2': {'definition': 'Type 2 finished square feet', 'values': []}, 'BsmtUnfSF': {'definition': 'Unfinished square feet of basement area', 'values': []}, 'TotalBsmtSF': {'definition': 'Total square feet of basement area', 'values': []}, 'Heating': {'definition': 'Type of heating', 'values': ['Floor:Floor Furnace', 'GasA:Gas forced warm air furnace', 'GasW:Gas hot water or steam heat', 'Grav:Gravity furnace', 'OthW:Hot water or steam heat other than gas', 'Wall:Wall furnace']}, 'HeatingQC': {'definition': 'Heating quality and condition', 'values': ['Ex:Excellent', 'Gd:Good', 'TA:Average/Typical', 'Fa:Fair', 'Po:Poor']}, 'CentralAir': {'definition': 'Central air conditioning', 'values': ['N:No', 'Y:Yes']}, 'Electrical': {'definition': 'Electrical system', 'values': ['SBrkr:Standard Circuit Breakers & Romex', 'FuseA:Fuse Box over 60 AMP and all Romex wiring (Average)', 'FuseF:60 AMP Fuse Box and mostly Romex wiring (Fair)', 'FuseP:60 AMP Fuse Box and mostly knob & tube wiring (poor)', 'Mix:Mixed']}, '1stFlrSF': {'definition': 'First Floor square feet', 'values': []}, '2ndFlrSF': {'definition': 'Second floor square feet', 'values': []}, 'LowQualFinSF': {'definition': 'Low quality finished square feet (all floors)', 'values': []}, 'GrLivArea': {'definition': 'Above grade (ground) living area square feet', 'values': []}, 'BsmtFullBath': {'definition': 'Basement full bathrooms', 'values': []}, 'BsmtHalfBath': {'definition': 'Basement half bathrooms', 'values': []}, 'FullBath': {'definition': 'Full bathrooms above grade', 'values': []}, 'HalfBath': {'definition': 'Half baths above grade', 'values': []}, 'Bedroom': {'definition': 'Bedrooms above grade (does NOT include basement bedrooms)', 'values': []}, 'Kitchen': {'definition': 'Kitchens above grade', 'values': []}, 'KitchenQual': {'definition': 'Kitchen quality', 'values': ['Ex:Excellent', 'Gd:Good', 'TA:Typical/Average', 'Fa:Fair', 'Po:Poor']}, 'TotRmsAbvGrd': {'definition': 'Total rooms above grade (does not include bathrooms)', 'values': []}, 'Functional': {'definition': 'Home functionality (Assume typical unless deductions are warranted)', 'values': ['Typ:Typical Functionality', 'Min1:Minor Deductions 1', 'Min2:Minor Deductions 2', 'Mod:Moderate Deductions', 'Maj1:Major Deductions 1', 'Maj2:Major Deductions 2', 'Sev:Severely Damaged', 'Sal:Salvage only']}, 'Fireplaces': {'definition': 'Number of fireplaces', 'values': []}, 'FireplaceQu': {'definition': 'Fireplace quality', 'values': ['Ex:Excellent - Exceptional Masonry Fireplace', 'Gd:Good - Masonry Fireplace in main level', 'TA:Average - Prefabricated Fireplace in main living area or Masonry Fireplace in basement', 'Fa:Fair - Prefabricated Fireplace in basement', 'Po:Poor - Ben Franklin Stove', 'NA:No Fireplace']}, 'GarageType': {'definition': 'Garage location', 'values': ['2Types:More than one type of garage', 'Attchd:Attached to home', 'Basment:Basement Garage', 'BuiltIn:Built-In (Garage part of house - typically has room above garage)', 'CarPort:Car Port', 'Detchd:Detached from home', 'NA:No Garage']}, 'GarageYrBlt': {'definition': 'Year garage was built', 'values': []}, 'GarageFinish': {'definition': 'Interior finish of the garage', 'values': ['Fin:Finished', 'RFn:Rough Finished', 'Unf:Unfinished', 'NA:No Garage']}, 'GarageCars': {'definition': 'Size of garage in car capacity', 'values': []}, 'GarageArea': {'definition': 'Size of garage in square feet', 'values': []}, 'GarageQual': {'definition': 'Garage quality', 'values': ['Ex:Excellent', 'Gd:Good', 'TA:Typical/Average', 'Fa:Fair', 'Po:Poor', 'NA:No Garage']}, 'GarageCond': {'definition': 'Garage condition', 'values': ['Ex:Excellent', 'Gd:Good', 'TA:Typical/Average', 'Fa:Fair', 'Po:Poor', 'NA:No Garage']}, 'PavedDrive': {'definition': 'Paved driveway', 'values': ['Y:Paved', 'P:Partial Pavement', 'N:Dirt/Gravel']}, 'WoodDeckSF': {'definition': 'Wood deck area in square feet', 'values': []}, 'OpenPorchSF': {'definition': 'Open porch area in square feet', 'values': []}, 'EnclosedPorch': {'definition': 'Enclosed porch area in square feet', 'values': []}, '3SsnPorch': {'definition': 'Three season porch area in square feet', 'values': []}, 'ScreenPorch': {'definition': 'Screen porch area in square feet', 'values': []}, 'PoolArea': {'definition': 'Pool area in square feet', 'values': []}, 'PoolQC': {'definition': 'Pool quality', 'values': ['Ex:Excellent', 'Gd:Good', 'TA:Average/Typical', 'Fa:Fair', 'NA:No Pool']}, 'Fence': {'definition': 'Fence quality', 'values': ['GdPrv:Good Privacy', 'MnPrv:Minimum Privacy', 'GdWo:Good Wood', 'MnWw:Minimum Wood/Wire', 'NA:No Fence']}, 'MiscFeature': {'definition': 'Miscellaneous feature not covered in other categories', 'values': ['Elev:Elevator', 'Gar2:2nd Garage (if not described in garage section)', 'Othr:Other', 'Shed:Shed (over 100 SF)', 'TenC:Tennis Court', 'NA:None']}, 'MiscVal': {'definition': '$Value of miscellaneous feature', 'values': []}, 'MoSold': {'definition': 'Month Sold (MM)', 'values': []}, 'YrSold': {'definition': 'Year Sold (YYYY)', 'values': []}, 'SaleType': {'definition': 'Type of sale', 'values': ['WD :Warranty Deed - Conventional', 'CWD:Warranty Deed - Cash', 'VWD:Warranty Deed - VA Loan', 'New:Home just constructed and sold', 'COD:Court Officer Deed/Estate', 'Con:Contract 15% Down payment regular terms', 'ConLw:Contract Low Down payment and low interest', 'ConLI:Contract Low Interest', 'ConLD:Contract Low Down', 'Oth:Other']}, 'SaleCondition': {'definition': 'Condition of sale', 'values': ['Normal:Normal Sale', 'Abnorml:Abnormal Sale -  trade, foreclosure, short sale', 'AdjLand:Adjoining Land Purchase', 'Alloca:Allocation - two linked properties with separate deeds, typically condo with a garage unit', 'Family:Sale between family members', 'Partial:Home was not completed when last assessed (associated with New Homes)']}}\n"
     ]
    }
   ],
   "source": [
    "data_dict = {}\n",
    "# For lines that have ':' in them, get the feature and the definition and then also get all of the possible values until the next line with ':'\n",
    "\n",
    "i = 0\n",
    "while i < len(lines):\n",
    "    if ':' in lines[i]:\n",
    "        feature = lines[i].split(':')[0].strip()\n",
    "        definition = lines[i].split(':')[1].strip()\n",
    "        values = []\n",
    "        i += 1\n",
    "        while i < len(lines) and ':' not in lines[i]:\n",
    "            this_line = lines[i].strip()\n",
    "            if this_line != '':\n",
    "                values.append(this_line.replace('\\t',':'))\n",
    "            i += 1\n",
    "        data_dict[feature] = {'definition': definition, 'values': values}\n",
    "    else:\n",
    "        i += 1\n",
    "\n",
    "print(data_dict)"
   ]
  },
  {
   "cell_type": "code",
   "execution_count": 29,
   "metadata": {},
   "outputs": [],
   "source": [
    "#convert data_dict to markdown\n",
    "markdown = ''\n",
    "for feature in data_dict:\n",
    "    markdown += f'## {feature}\\n'\n",
    "    markdown += f'{data_dict[feature][\"definition\"]}\\n'\n",
    "    if len(data_dict[feature][\"values\"]) > 0:\n",
    "        for value in data_dict[feature][\"values\"]:\n",
    "            value_splitted = value.split(':')\n",
    "            markdown += f'- **{value_splitted[0]}**: {value_splitted[1]}\\n'"
   ]
  },
  {
   "cell_type": "code",
   "execution_count": 30,
   "metadata": {},
   "outputs": [],
   "source": [
    "#save markdown\n",
    "with open('data_description.md', 'w') as file:\n",
    "    file.write(markdown)"
   ]
  }
 ],
 "metadata": {
  "kernelspec": {
   "display_name": "house_env",
   "language": "python",
   "name": "python3"
  },
  "language_info": {
   "codemirror_mode": {
    "name": "ipython",
    "version": 3
   },
   "file_extension": ".py",
   "mimetype": "text/x-python",
   "name": "python",
   "nbconvert_exporter": "python",
   "pygments_lexer": "ipython3",
   "version": "3.12.4"
  }
 },
 "nbformat": 4,
 "nbformat_minor": 2
}
